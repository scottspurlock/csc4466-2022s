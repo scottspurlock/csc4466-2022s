{
  "nbformat": 4,
  "nbformat_minor": 0,
  "metadata": {
    "colab": {
      "name": "lab02_snow_starter.ipynb",
      "provenance": [],
      "authorship_tag": "ABX9TyNumwRECw3hbgXxuD7ASH75",
      "include_colab_link": true
    },
    "kernelspec": {
      "name": "python3",
      "display_name": "Python 3"
    },
    "language_info": {
      "name": "python"
    }
  },
  "cells": [
    {
      "cell_type": "markdown",
      "metadata": {
        "id": "view-in-github",
        "colab_type": "text"
      },
      "source": [
        "<a href=\"https://colab.research.google.com/github/scottspurlock/csc4466-2022s/blob/main/labs/lab02_snow_starter.ipynb\" target=\"_parent\"><img src=\"https://colab.research.google.com/assets/colab-badge.svg\" alt=\"Open In Colab\"/></a>"
      ]
    },
    {
      "cell_type": "markdown",
      "source": [
        "# CSC 4466 Computer Vision\n",
        "## Lab 2 - Snow\n",
        "### 2/2/2022\n",
        "### *** Your Name Here ***\n",
        "The goal of this lab is to get comfortable working with images in Python. You will start with a partially complete Python script and add code to make it work. Look for TODO's in the comments to see where code should be added.\n"
      ],
      "metadata": {
        "id": "76Zf7-sYNLLG"
      }
    },
    {
      "cell_type": "code",
      "execution_count": 2,
      "metadata": {
        "id": "fZOF7f7XNHaF"
      },
      "outputs": [],
      "source": [
        "import numpy as np\n",
        "import matplotlib.pyplot as plt\n",
        "import cv2\n"
      ]
    },
    {
      "cell_type": "markdown",
      "source": [
        "## The make_it_snow function is where the magic happens.\n",
        "See comments in the function for what needs to be completed."
      ],
      "metadata": {
        "id": "8AO2wVIAN8I-"
      }
    },
    {
      "cell_type": "code",
      "source": [
        "def make_it_snow(img, color):\n",
        "    ''' (Note triple quotes for multi-line comment)\n",
        "        Add random \"snow\" to an image.\n",
        "\n",
        "        Parameters:\n",
        "        img: the image to display\n",
        "        color: the color of the snow as a 3-element list of numbers (BGR).\n",
        "               If the color is [0, 0, 0], then the snow will be randomly colored.\n",
        "\n",
        "        Returns:\n",
        "        img: the modified input image\n",
        "    '''\n",
        "    print('Starting make_it_snow function with color', color)\n",
        "\n",
        "    if img is None:\n",
        "        print(' *** It appears that no image has been provided.')\n",
        "    \n",
        "    if color is None:\n",
        "        print(' *** It appears that no color has been provided.')\n",
        "    \n",
        "    # This constant controls how many snowflakes get drawn on the image.\n",
        "    MAX_SNOWFLAKES = 1500\n",
        "\n",
        "    if color == [0, 0, 0]:\n",
        "        use_random_color = True\n",
        "    else:\n",
        "        use_random_color = False\n",
        "\n",
        "    # TODO: determine the number of rows and columns in the image\n",
        "\n",
        "\n",
        "    # This loop draws the number of snowflakes given by MAX_SNOWFLAKES\n",
        "    for i in range(MAX_SNOWFLAKES):\n",
        "        # TODO: find a random pixel within the image.\n",
        "        # Hint: use np.random.randint to pick a random row between 0 and the number\n",
        "        # of rows in the image. Use np.random.randint again to pick a column.\n",
        "\n",
        "        if use_random_color:\n",
        "            # TODO: generate a random color (use np.random.randint for the\n",
        "            # blue, green, and red). Remember that these values should be between\n",
        "            # 0 and 255.\n",
        "\n",
        "        # TODO: set the color of the random pixel in the image\n",
        "\n",
        "\n",
        "    # pass back the snowy image\n",
        "    return img\n"
      ],
      "metadata": {
        "id": "b4dC6RHGNzck"
      },
      "execution_count": null,
      "outputs": []
    },
    {
      "cell_type": "markdown",
      "source": [
        "## Testing\n",
        "Find an image online, download it to your computer, then upload it to\n",
        "Colab so it will be in the same folder with this script."
      ],
      "metadata": {
        "id": "EZwCHtV2O1jN"
      }
    },
    {
      "cell_type": "code",
      "source": [
        "# TODO: update the variable below to match the image file name that you uploaded.\n",
        "image_name = 'my_image.jpg'\n",
        "\n",
        "# TODO: read in the image into a variable called img\n",
        "\n",
        "# TODO: set a snow color. This should be a 3-element list of numbers: [B, G, R].\n",
        "snow_color = None\n",
        "\n",
        "# call make_it_snow with your image\n",
        "snowy_img = make_it_snow(img, snow_color)\n",
        "\n",
        "# TODO: display the snowy image\n"
      ],
      "metadata": {
        "id": "494EASBTOcs3"
      },
      "execution_count": null,
      "outputs": []
    }
  ]
}