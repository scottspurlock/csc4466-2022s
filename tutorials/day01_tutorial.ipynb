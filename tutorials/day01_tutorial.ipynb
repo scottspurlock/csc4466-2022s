{
  "nbformat": 4,
  "nbformat_minor": 0,
  "metadata": {
    "colab": {
      "name": "day01_tutorial.ipynb",
      "provenance": [],
      "authorship_tag": "ABX9TyPnsipaElvnBZ+bAumrrjsq",
      "include_colab_link": true
    },
    "kernelspec": {
      "name": "python3",
      "display_name": "Python 3"
    },
    "language_info": {
      "name": "python"
    }
  },
  "cells": [
    {
      "cell_type": "markdown",
      "metadata": {
        "id": "view-in-github",
        "colab_type": "text"
      },
      "source": [
        "<a href=\"https://colab.research.google.com/github/scottspurlock/csc4466-2022s/blob/main/tutorials/day01_tutorial.ipynb\" target=\"_parent\"><img src=\"https://colab.research.google.com/assets/colab-badge.svg\" alt=\"Open In Colab\"/></a>"
      ]
    },
    {
      "cell_type": "markdown",
      "source": [
        " # CSC 4466 Computer Vision\n",
        " ## Day 1 Tutorial\n",
        " - Python\n",
        " - NumPy\n",
        " - Matplotlib\n"
      ],
      "metadata": {
        "id": "pL2X8PM8FWV-"
      }
    },
    {
      "cell_type": "code",
      "execution_count": 1,
      "metadata": {
        "id": "zW689q_0FVHY"
      },
      "outputs": [],
      "source": [
        "import numpy as np\n",
        "import matplotlib.pyplot as plt"
      ]
    },
    {
      "cell_type": "markdown",
      "source": [
        "## Python\n",
        "- Printing\n",
        "- Lists\n",
        "- Loops"
      ],
      "metadata": {
        "id": "XKmrnssoF50s"
      }
    },
    {
      "cell_type": "code",
      "source": [
        "print('Hello, World!')"
      ],
      "metadata": {
        "colab": {
          "base_uri": "https://localhost:8080/"
        },
        "id": "ohIYaxexF4n9",
        "outputId": "dfd0d263-54e3-4c9f-f549-2219709a76cd"
      },
      "execution_count": 2,
      "outputs": [
        {
          "output_type": "stream",
          "name": "stdout",
          "text": [
            "Hello, World!\n"
          ]
        }
      ]
    },
    {
      "cell_type": "code",
      "source": [
        "num1 = 10\n",
        "num2 = 20\n",
        "\n",
        "print('My first number is', num1, 'and my second is', num2, '.')\n",
        "print(f'My first number is {num1} and my second is {num2}.')\n",
        "\n",
        "print()\n",
        "\n",
        "num1 = 1.23456789\n",
        "print('Now my number is', num1)\n",
        "print(f'Now my number is {num1:.2f}')"
      ],
      "metadata": {
        "colab": {
          "base_uri": "https://localhost:8080/"
        },
        "id": "4FnC_gmsGJtN",
        "outputId": "e1e5b3e8-ed0b-418e-eeac-da83a5ecd2c6"
      },
      "execution_count": 3,
      "outputs": [
        {
          "output_type": "stream",
          "name": "stdout",
          "text": [
            "My first number is 10 and my second is 20 .\n",
            "My first number is 10 and my second is 20.\n",
            "\n",
            "Now my number is 1.23456789\n",
            "Now my number is 1.23\n"
          ]
        }
      ]
    },
    {
      "cell_type": "markdown",
      "source": [
        "### Lists"
      ],
      "metadata": {
        "id": "x-qO6z8xHTnd"
      }
    },
    {
      "cell_type": "code",
      "source": [
        "my_list = []\n",
        "other_list = [1, 2, 3]\n",
        "third_list = ['foo', 42, 'bar', True, 3.14]\n",
        "\n",
        "third_list.append('last item')\n",
        "print(third_list)"
      ],
      "metadata": {
        "colab": {
          "base_uri": "https://localhost:8080/"
        },
        "id": "ZHMVRQFWGU5c",
        "outputId": "e07a957d-bbc1-44c7-8d3f-b8503084a74e"
      },
      "execution_count": 4,
      "outputs": [
        {
          "output_type": "stream",
          "name": "stdout",
          "text": [
            "['foo', 42, 'bar', True, 3.14, 'last item']\n"
          ]
        }
      ]
    },
    {
      "cell_type": "markdown",
      "source": [
        "### Loops"
      ],
      "metadata": {
        "id": "yw4B_sJiIBGO"
      }
    },
    {
      "cell_type": "code",
      "source": [
        "for i in range(5):\n",
        "  print(i)\n",
        "\n",
        "print('----')\n",
        "\n",
        "for i in range(10, 15):\n",
        "  print(i)\n",
        "\n",
        "print('----')\n",
        "\n",
        "for i in range(-20, 21, 5):\n",
        "  print(i)\n",
        "\n"
      ],
      "metadata": {
        "colab": {
          "base_uri": "https://localhost:8080/"
        },
        "id": "15bpxSxKHzFO",
        "outputId": "9138dda0-c09d-4267-ee34-b8099d905694"
      },
      "execution_count": 5,
      "outputs": [
        {
          "output_type": "stream",
          "name": "stdout",
          "text": [
            "0\n",
            "1\n",
            "2\n",
            "3\n",
            "4\n",
            "----\n",
            "10\n",
            "11\n",
            "12\n",
            "13\n",
            "14\n",
            "----\n",
            "-20\n",
            "-15\n",
            "-10\n",
            "-5\n",
            "0\n",
            "5\n",
            "10\n",
            "15\n",
            "20\n"
          ]
        }
      ]
    },
    {
      "cell_type": "markdown",
      "source": [
        "#### Looping over lists"
      ],
      "metadata": {
        "id": "o32TlLbnJVk_"
      }
    },
    {
      "cell_type": "code",
      "source": [
        "# Just using the index\n",
        "for i in range(len(third_list)):\n",
        "  print(third_list[i])\n",
        "\n",
        "print('----')\n",
        "\n",
        "# Just the item\n",
        "for item in third_list:\n",
        "  print(item)\n",
        "\n",
        "print('----')\n",
        "\n",
        "# Both index and item using enumerate\n",
        "for i, item in enumerate(third_list):\n",
        "  print(f'The item at index {i} is {item}.')\n",
        "\n"
      ],
      "metadata": {
        "colab": {
          "base_uri": "https://localhost:8080/"
        },
        "id": "H7_iF-guIO2o",
        "outputId": "a28db0b6-725b-47ef-ac74-c9910fddb75e"
      },
      "execution_count": 6,
      "outputs": [
        {
          "output_type": "stream",
          "name": "stdout",
          "text": [
            "foo\n",
            "42\n",
            "bar\n",
            "True\n",
            "3.14\n",
            "last item\n",
            "----\n",
            "foo\n",
            "42\n",
            "bar\n",
            "True\n",
            "3.14\n",
            "last item\n",
            "----\n",
            "The item at index 0 is foo.\n",
            "The item at index 1 is 42.\n",
            "The item at index 2 is bar.\n",
            "The item at index 3 is True.\n",
            "The item at index 4 is 3.14.\n",
            "The item at index 5 is last item.\n"
          ]
        }
      ]
    },
    {
      "cell_type": "markdown",
      "source": [
        "## NumPy\n",
        "- Arrays\n",
        "- Slicing\n",
        "- No loops\n"
      ],
      "metadata": {
        "id": "nAPbAUUuJnea"
      }
    },
    {
      "cell_type": "code",
      "source": [
        "# Make a new numpy array with a Python list\n",
        "A = np.array([1, 2, 3, 4, 5, 6, 7, 8, 9, 10])\n",
        "A"
      ],
      "metadata": {
        "colab": {
          "base_uri": "https://localhost:8080/"
        },
        "id": "e2AfZVwTI2iS",
        "outputId": "c9c5830f-fee3-4402-8cd0-ffe5c7c2923a"
      },
      "execution_count": 7,
      "outputs": [
        {
          "output_type": "execute_result",
          "data": {
            "text/plain": [
              "array([ 1,  2,  3,  4,  5,  6,  7,  8,  9, 10])"
            ]
          },
          "metadata": {},
          "execution_count": 7
        }
      ]
    },
    {
      "cell_type": "code",
      "source": [
        "# Make a new numpy array as a range of values, optionally specifying the data type.\n",
        "A = np.arange(1, 11, dtype=np.uint8)\n",
        "A"
      ],
      "metadata": {
        "colab": {
          "base_uri": "https://localhost:8080/"
        },
        "id": "1Qp5yRuwJ1sa",
        "outputId": "1cea92f9-4510-4c4a-cefb-5f1a3fb820dd"
      },
      "execution_count": 8,
      "outputs": [
        {
          "output_type": "execute_result",
          "data": {
            "text/plain": [
              "array([ 1,  2,  3,  4,  5,  6,  7,  8,  9, 10], dtype=uint8)"
            ]
          },
          "metadata": {},
          "execution_count": 8
        }
      ]
    },
    {
      "cell_type": "code",
      "source": [
        "# Reshape an array to have the given number of rows and columns\n",
        "A = np.reshape(A, (2, 5))\n",
        "A"
      ],
      "metadata": {
        "colab": {
          "base_uri": "https://localhost:8080/"
        },
        "id": "qqxTC8P0KBaI",
        "outputId": "6499f5c7-98ef-4e7e-b2ac-89b5f4c68f46"
      },
      "execution_count": 9,
      "outputs": [
        {
          "output_type": "execute_result",
          "data": {
            "text/plain": [
              "array([[ 1,  2,  3,  4,  5],\n",
              "       [ 6,  7,  8,  9, 10]], dtype=uint8)"
            ]
          },
          "metadata": {},
          "execution_count": 9
        }
      ]
    },
    {
      "cell_type": "code",
      "source": [
        "# Getting the array dimensions (shape)\n",
        "print(A.shape)\n",
        "\n",
        "rows, cols = A.shape\n",
        "print(f'Array has {rows} rows and {cols} columns.')"
      ],
      "metadata": {
        "colab": {
          "base_uri": "https://localhost:8080/"
        },
        "id": "tIuhPJlLMU7o",
        "outputId": "2f9a2124-e083-4ff9-cf3b-a7ed902989ed"
      },
      "execution_count": 10,
      "outputs": [
        {
          "output_type": "stream",
          "name": "stdout",
          "text": [
            "(2, 5)\n",
            "Array has 2 rows and 5 columns.\n"
          ]
        }
      ]
    },
    {
      "cell_type": "markdown",
      "source": [
        "#### Array Slicing"
      ],
      "metadata": {
        "id": "OwX50DUiLsC3"
      }
    },
    {
      "cell_type": "code",
      "source": [
        "# Slice the array to get a subset of elements\n",
        "B = A[0:2, 0:3]\n",
        "B"
      ],
      "metadata": {
        "colab": {
          "base_uri": "https://localhost:8080/"
        },
        "id": "X0ttMwwXKZLl",
        "outputId": "eb767b63-4af7-4b5c-d824-5416ea292e14"
      },
      "execution_count": 11,
      "outputs": [
        {
          "output_type": "execute_result",
          "data": {
            "text/plain": [
              "array([[1, 2, 3],\n",
              "       [6, 7, 8]], dtype=uint8)"
            ]
          },
          "metadata": {},
          "execution_count": 11
        }
      ]
    },
    {
      "cell_type": "code",
      "source": [
        "# Shortcut: leave off indices when they are the start/end\n",
        "B = A[:, :3]\n",
        "B"
      ],
      "metadata": {
        "colab": {
          "base_uri": "https://localhost:8080/"
        },
        "id": "DOLMovQ0LRtz",
        "outputId": "6b93f0a5-3e75-430d-9c40-d7b7f07e72bc"
      },
      "execution_count": 12,
      "outputs": [
        {
          "output_type": "execute_result",
          "data": {
            "text/plain": [
              "array([[1, 2, 3],\n",
              "       [6, 7, 8]], dtype=uint8)"
            ]
          },
          "metadata": {},
          "execution_count": 12
        }
      ]
    },
    {
      "cell_type": "markdown",
      "source": [
        "#### We can often avoid (explicit) loops for massive speed-ups"
      ],
      "metadata": {
        "id": "0Q9jvOTRL0nr"
      }
    },
    {
      "cell_type": "code",
      "source": [
        "# Version 1: explicit nested loop over each element\n",
        "def slow(X):\n",
        "  # Copy to avoid changing the input\n",
        "  Y = X.copy()\n",
        "  rows, cols = Y.shape\n",
        "  for i in range(rows):\n",
        "    for j in range(cols):\n",
        "      Y[i, j] = 20 * X[i, j]\n",
        "\n",
        "  return Y\n",
        "\n",
        "# ---------------\n",
        "\n",
        "print(A)\n",
        "print()\n",
        "print(slow(A))\n"
      ],
      "metadata": {
        "colab": {
          "base_uri": "https://localhost:8080/"
        },
        "id": "C3qVBzudLcpD",
        "outputId": "88813c4d-fdc6-45b9-ad2a-1792f9a046d0"
      },
      "execution_count": 13,
      "outputs": [
        {
          "output_type": "stream",
          "name": "stdout",
          "text": [
            "[[ 1  2  3  4  5]\n",
            " [ 6  7  8  9 10]]\n",
            "\n",
            "[[ 20  40  60  80 100]\n",
            " [120 140 160 180 200]]\n"
          ]
        }
      ]
    },
    {
      "cell_type": "code",
      "source": [
        "# Version 2: no loops\n",
        "B = 20 * A\n",
        "\n",
        "print(B)"
      ],
      "metadata": {
        "colab": {
          "base_uri": "https://localhost:8080/"
        },
        "id": "qxIej-6sM8iq",
        "outputId": "50798ab0-365f-49a2-cbbe-7d27b3fe3a00"
      },
      "execution_count": 14,
      "outputs": [
        {
          "output_type": "stream",
          "name": "stdout",
          "text": [
            "[[ 20  40  60  80 100]\n",
            " [120 140 160 180 200]]\n"
          ]
        }
      ]
    },
    {
      "cell_type": "markdown",
      "source": [
        "## Matplotlib\n",
        "- Visualizing arrays\n",
        "- Data types\n"
      ],
      "metadata": {
        "id": "KhyOSr09N9cr"
      }
    },
    {
      "cell_type": "code",
      "source": [
        "plt.imshow(B)\n",
        "plt.colorbar()\n",
        "plt.show()"
      ],
      "metadata": {
        "colab": {
          "base_uri": "https://localhost:8080/",
          "height": 258
        },
        "id": "ojJ3YbFnNvNz",
        "outputId": "ff9c3fc4-aa3e-471e-8a93-34ffddac5484"
      },
      "execution_count": 15,
      "outputs": [
        {
          "output_type": "display_data",
          "data": {
            "image/png": "[encoded data removed]",
            "text/plain": [
              "<Figure size 432x288 with 2 Axes>"
            ]
          },
          "metadata": {
            "needs_background": "light"
          }
        }
      ]
    },
    {
      "cell_type": "code",
      "source": [
        "plt.imshow(B, cmap='gray', vmin=0, vmax=255)\n",
        "plt.show()"
      ],
      "metadata": {
        "colab": {
          "base_uri": "https://localhost:8080/",
          "height": 186
        },
        "id": "D9E-YQeXOIDT",
        "outputId": "ac15f94b-dc82-4cbb-be72-aa9f06808292"
      },
      "execution_count": 16,
      "outputs": [
        {
          "output_type": "display_data",
          "data": {
            "image/png": "[encoded data removed]",
            "text/plain": [
              "<Figure size 432x288 with 1 Axes>"
            ]
          },
          "metadata": {
            "needs_background": "light"
          }
        }
      ]
    },
    {
      "cell_type": "markdown",
      "source": [
        "## Putting it all together"
      ],
      "metadata": {
        "id": "9NzEJ3XEPtdv"
      }
    },
    {
      "cell_type": "code",
      "source": [
        "# Make a big 2D array of zeros\n",
        "A = np.zeros((200, 300), dtype=np.uint8)\n",
        "\n",
        "# Use slicing to set part of the array to a new value\n",
        "A[:50, :50] = 63\n",
        "A[50:150, 50:150] = 127\n",
        "A[150:, 150:] = 255\n",
        "\n",
        "# Visualize\n",
        "plt.imshow(A, cmap='gray', vmin=0, vmax=255)\n",
        "plt.colorbar()\n",
        "plt.show()"
      ],
      "metadata": {
        "colab": {
          "base_uri": "https://localhost:8080/",
          "height": 254
        },
        "id": "WINfexYCPtGt",
        "outputId": "e903e404-f51d-49bc-b66d-125e57357b26"
      },
      "execution_count": 17,
      "outputs": [
        {
          "output_type": "display_data",
          "data": {
            "image/png": "[encoded data removed]",
            "text/plain": [
              "<Figure size 432x288 with 2 Axes>"
            ]
          },
          "metadata": {
            "needs_background": "light"
          }
        }
      ]
    },
    {
      "cell_type": "code",
      "source": [
        ""
      ],
      "metadata": {
        "id": "jQfE8vvROgoC"
      },
      "execution_count": 17,
      "outputs": []
    }
  ]
}